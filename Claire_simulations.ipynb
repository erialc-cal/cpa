{
 "cells": [
  {
   "cell_type": "markdown",
   "id": "32fe1d91-fbcc-4455-9d56-b27419769e31",
   "metadata": {},
   "source": [
    "# Simulations notebook"
   ]
  },
  {
   "cell_type": "markdown",
   "id": "db98b494-18e9-478a-a156-a814f995f967",
   "metadata": {},
   "source": [
    "## Simulated data"
   ]
  },
  {
   "cell_type": "markdown",
   "id": "7f5dacba-2580-485d-b980-430235c549a4",
   "metadata": {},
   "source": [
    "### Poisson-logNormal $Z_i \\sim N(\\mu_i, \\sigma_i^2)$"
   ]
  },
  {
   "cell_type": "markdown",
   "id": "dd4654e6-907a-497f-a088-9659f414bef6",
   "metadata": {},
   "source": [
    "Set our latent $Z_i, i=1, \\dots, 9$ with $Z_i \\sim N(\\mu_i, \\sigma_i^2)$."
   ]
  },
  {
   "cell_type": "code",
   "execution_count": 4,
   "id": "c5f0479c-84f4-422f-aa9e-a3190238067f",
   "metadata": {
    "tags": []
   },
   "outputs": [],
   "source": [
    "import numpy as np\n",
    "import pandas as pd\n",
    "import scipy as sp\n",
    "import matplotlib.pyplot as plt\n",
    "import scanpy as sc"
   ]
  },
  {
   "cell_type": "code",
   "execution_count": 5,
   "id": "b597560a-f16b-446a-a9bd-2f8119b892b5",
   "metadata": {
    "tags": []
   },
   "outputs": [
    {
     "name": "stdout",
     "output_type": "stream",
     "text": [
      "1.23.5\n"
     ]
    }
   ],
   "source": [
    "print(np.__version__)"
   ]
  },
  {
   "cell_type": "code",
   "execution_count": 6,
   "id": "05b40c45-d5b4-4f9b-8348-695ef3ab0cae",
   "metadata": {
    "tags": []
   },
   "outputs": [],
   "source": [
    "K = 20\n",
    "n = 20000 # number of cells\n",
    "N = G = 1000 # number of genes\n",
    "np.random.seed(123)\n",
    "mu = np.random.uniform(0,1, K)\n",
    "Z = np.random.normal(mu,0.1) "
   ]
  },
  {
   "cell_type": "markdown",
   "id": "7385db7d-6324-4acb-b5fe-2eaa368fdca5",
   "metadata": {},
   "source": [
    "Linear model for each cell $i$, $ X_i = BZ_i + \\epsilon$ \n",
    "ie for $K$ \"modules\" $Z_1,\\dots, Z_K$ \n",
    "\n",
    "$X_{i} = \\sum_k B_{ik}Z_k + \\epsilon_i$, $\\epsilon_i \\sim N(0, \\sigma_0^2 I_{G})$\n",
    "\n",
    "Non linear transformation for count data: poisson lognormal $X_i \\sim \\mathcal{P}(e^{BZ_i+\\epsilon})$\n",
    "\n",
    "Here $N = G = 1000$"
   ]
  },
  {
   "cell_type": "code",
   "execution_count": 7,
   "id": "e89a1d61-7c68-40e5-ad8d-c4e705eade12",
   "metadata": {
    "tags": []
   },
   "outputs": [],
   "source": [
    "N = 1000\n",
    "p = 0.3\n",
    "def randbin(m, n, p, seed=123):  \n",
    "    np.random.seed(seed)\n",
    "    return np.random.choice([0, 1], size=(m,n), p=[p, 1-p])\n",
    "\n",
    "def non_linear_transform(X, f=None):\n",
    "    if f == 'exp':\n",
    "        return np.exp(-X)\n",
    "    if f == 'tanh':\n",
    "        return np.tanh(X)\n",
    "    if f == 'roll':\n",
    "        return X*np.cos(X)\n",
    "    else:\n",
    "        return np.cos(X)\n",
    "f = 'roll'\n",
    "B = np.transpose(randbin(K,N, p))\n",
    "sigma0 = np.var(non_linear_transform(B@Z, f=f))*0.3\n",
    "eps = np.random.normal(0,sigma0, size=N)\n",
    "X_nl = non_linear_transform(B@Z, f=f)"
   ]
  },
  {
   "cell_type": "code",
   "execution_count": 8,
   "id": "a7cfa690-f018-47c4-9267-30b408a91aeb",
   "metadata": {
    "tags": []
   },
   "outputs": [],
   "source": [
    "def poisson_lognormal(Z, seed=None):\n",
    "    if seed!=None:\n",
    "        np.random.seed(seed)\n",
    "    sigma0 = np.sqrt(np.var(Z))*0.3\n",
    "    eps = np.random.normal(0,sigma0, size=Z.shape[0])\n",
    "    lam = np.exp(Z+eps)\n",
    "    return np.random.poisson(lam)\n",
    "\n",
    "X = np.array([poisson_lognormal(X_nl) for i in range(n)])"
   ]
  },
  {
   "cell_type": "code",
   "execution_count": null,
   "id": "24d5a42a-9ee4-4b9a-962f-c76e42817501",
   "metadata": {
    "tags": []
   },
   "outputs": [],
   "source": [
    "import umap\n",
    "from sklearn.preprocessing import StandardScaler"
   ]
  },
  {
   "cell_type": "code",
   "execution_count": null,
   "id": "0c085712-75d8-447f-b3d7-8b1ae4047e32",
   "metadata": {
    "tags": []
   },
   "outputs": [],
   "source": [
    "reducer = umap.UMAP()\n",
    "scaled_X = StandardScaler().fit_transform(X)\n",
    "embedding = reducer.fit_transform(scaled_X)\n",
    "embedding.shape"
   ]
  },
  {
   "cell_type": "code",
   "execution_count": null,
   "id": "05313895-6ba2-4e45-b82b-4102e783363c",
   "metadata": {
    "tags": []
   },
   "outputs": [],
   "source": [
    "B.shape"
   ]
  },
  {
   "cell_type": "code",
   "execution_count": null,
   "id": "6da6380b-7e24-4d18-a3a5-9ba7a1ba45fd",
   "metadata": {
    "tags": []
   },
   "outputs": [],
   "source": [
    "keys = ['module_{}'.format(i) for i in range(K)]\n",
    "B_dict = dict(zip(keys, B.T))"
   ]
  },
  {
   "cell_type": "code",
   "execution_count": null,
   "id": "48e19713-5e24-471c-9c6c-63843b0ee189",
   "metadata": {
    "tags": []
   },
   "outputs": [],
   "source": [
    "plt.scatter(\n",
    "    embedding[:, 0],\n",
    "    embedding[:, 1],\n",
    "    alpha=0.5\n",
    "    )\n",
    "plt.gca().set_aspect('equal', 'datalim')\n",
    "plt.title('UMAP projection of synthetic data', fontsize=12);"
   ]
  },
  {
   "cell_type": "markdown",
   "id": "7466e8ec-dfac-4de9-be8e-1920fea1fb88",
   "metadata": {},
   "source": [
    "#### add interventions"
   ]
  },
  {
   "cell_type": "markdown",
   "id": "9fffca2d-e720-42fa-8bba-e162e07fcdbd",
   "metadata": {
    "tags": []
   },
   "source": [
    "Add interventions vector $d \\in \\mathbb{R}^G$, in a linear model $X_i(d) = \\text{Poisson-lognormal}((B \\otimes d) Z_i + \\epsilon_i)$ where $d$ such that $d_k = 0$ for blocked genes, $d_k = 1$ for not blocked. \n",
    "\n",
    "Recall $B \\in \\mathbb{R}^{N\\times K}$ with $N$ genes and $K$ modules. So intervention blocking gene $g$ should set row $g$ to zero in $B$ ($0_{1 \\times K}$ vector)."
   ]
  },
  {
   "cell_type": "code",
   "execution_count": null,
   "id": "1da7bcc6-6241-4091-837a-761e000aa1ff",
   "metadata": {
    "tags": []
   },
   "outputs": [],
   "source": [
    "np.max(X), np.min(X), np.mean(X)"
   ]
  },
  {
   "cell_type": "code",
   "execution_count": null,
   "id": "5352fc18-c41c-4180-911c-962b7c95d39c",
   "metadata": {
    "tags": []
   },
   "outputs": [],
   "source": [
    "import seaborn as sns\n",
    "sns.heatmap(np.log(1+X))"
   ]
  },
  {
   "cell_type": "markdown",
   "id": "f0609733-229f-4d03-adb1-f3c2d4a45731",
   "metadata": {},
   "source": [
    "Define knocked out genes."
   ]
  },
  {
   "cell_type": "code",
   "execution_count": null,
   "id": "e4599f25-d44c-419e-a5d6-0179998727b2",
   "metadata": {
    "tags": []
   },
   "outputs": [],
   "source": [
    "d=np.ones(N)\n",
    "d[20] = d[10] = d[3] =d[1]= d[15]= 0 # set genes 3, 10 and 100 as knock out. \n",
    "B_d = np.multiply(B.T,d).T"
   ]
  },
  {
   "cell_type": "code",
   "execution_count": null,
   "id": "d543aeb1-4cf1-4146-a11d-ff35206b071e",
   "metadata": {
    "tags": []
   },
   "outputs": [],
   "source": [
    "(B_d@Z).shape"
   ]
  },
  {
   "cell_type": "code",
   "execution_count": null,
   "id": "06b9cd5b-f3cd-434c-94c3-3e447d53f1d2",
   "metadata": {
    "tags": []
   },
   "outputs": [],
   "source": [
    "X_d = np.array([poisson_lognormal(B_d@Z) for i in range(n)])"
   ]
  },
  {
   "cell_type": "code",
   "execution_count": null,
   "id": "717fa49f-1bc1-46d2-94e3-74ef6bb6c801",
   "metadata": {
    "tags": []
   },
   "outputs": [],
   "source": [
    "reducer = umap.UMAP()\n",
    "scaled_X_d = StandardScaler().fit_transform(X_d)\n",
    "embedding_d = reducer.fit_transform(scaled_X_d)\n",
    "embedding_d.shape"
   ]
  },
  {
   "cell_type": "code",
   "execution_count": null,
   "id": "29a178fe-f2be-45e5-aabd-f5a7177c0a26",
   "metadata": {
    "tags": []
   },
   "outputs": [],
   "source": [
    "plt.figure(figsize=(10,5))\n",
    "plt.subplot(222).set_title('B matrix with knock outs 3, 10, 20')\n",
    "plt.imshow(B_d[:50,:].T)\n",
    "plt.subplot(221).set_title('X with knocked out genes')\n",
    "sns.heatmap(np.log(1+X_d))\n",
    "\n",
    "#plt.scatter((B@Z)[:,0],(B@Z)[:,1], color='orange', alpha=1, label='all observed')\n",
    "#plt.scatter((B_d@Z)[:,0],(B_d@Z)[:,1], color='blue', alpha=0.2, label='with knock outs')\n"
   ]
  },
  {
   "cell_type": "code",
   "execution_count": null,
   "id": "6fedc516-224a-4930-9c96-d3ad3805137b",
   "metadata": {
    "tags": []
   },
   "outputs": [],
   "source": [
    "X[:,3],X_d[:,3]"
   ]
  },
  {
   "cell_type": "code",
   "execution_count": null,
   "id": "54eb59da-119d-466e-8bc9-39c41da7c18a",
   "metadata": {
    "tags": []
   },
   "outputs": [],
   "source": [
    "g1 = 0\n",
    "g2 = 2\n",
    "plt.figure(figsize=(8,5))\n",
    "plt.scatter(X[:,g1],X[:,g2], color='red', alpha=0.3, label='observation baseline')\n",
    "plt.scatter(X_d[:,g1],X_d[:,g2], color='blue', alpha=0.5, label='with knock outs')\n",
    "plt.xlabel('gene {}'.format(g1))\n",
    "plt.ylabel('gene {}'.format(g2))\n",
    "plt.legend()\n",
    "plt.title('observation space between two genes for unperturbed versus with knock outs')"
   ]
  },
  {
   "cell_type": "code",
   "execution_count": null,
   "id": "2554860d-73c1-4301-8f78-ea7a7475c2be",
   "metadata": {
    "tags": []
   },
   "outputs": [],
   "source": [
    "g1 = 43\n",
    "g2 = 26\n",
    "plt.figure(figsize=(8,5))\n",
    "plt.scatter(X[:,g1],X[:,g2], color='red', alpha=0.3, label='observation baseline')\n",
    "plt.scatter(X_d[:,g1],X_d[:,g2], color='blue', alpha=0.5, label='with knock outs')\n",
    "plt.xlabel('gene {}'.format(g1))\n",
    "plt.ylabel('gene {}'.format(g2))\n",
    "plt.legend()\n",
    "plt.title('observation space between two genes for unperturbed versus with knock outs')"
   ]
  },
  {
   "cell_type": "markdown",
   "id": "3b27fce7-fa87-4574-90f0-60e00dc84947",
   "metadata": {},
   "source": [
    "Define the perturbations. Assume 10 different perturbations chosen at random. \n",
    "Add 10 perturbations that are linear combinations of the 20 perturbations."
   ]
  },
  {
   "cell_type": "code",
   "execution_count": null,
   "id": "54efcec8-fa97-41e0-b422-b4471aaa3730",
   "metadata": {
    "tags": []
   },
   "outputs": [],
   "source": [
    "# assume 10 different perturbations, chosen at random. \n",
    "# will be binary array od 1000 values\n",
    "M_pert = np.zeros((20, 1000)).astype('int')\n",
    "M_pert[:10,:] = randbin(10,N, p, seed=999).astype('int')\n",
    "\n",
    "M_pert.shape"
   ]
  },
  {
   "cell_type": "code",
   "execution_count": null,
   "id": "3ac414fc-7101-4918-923b-05641051bfac",
   "metadata": {
    "tags": []
   },
   "outputs": [],
   "source": [
    "for i in range(5):\n",
    "    M_pert[10+i,:] = np.bitwise_or(M_pert[i,:],M_pert[i+1,:])"
   ]
  },
  {
   "cell_type": "code",
   "execution_count": null,
   "id": "1b5e98d7-a289-4b6d-9eb1-092ba59ef39a",
   "metadata": {
    "tags": []
   },
   "outputs": [],
   "source": [
    "for i in range(5):\n",
    "    M_pert[15+i,:] = np.bitwise_or(M_pert[i,:],M_pert[9-i,:])"
   ]
  },
  {
   "cell_type": "markdown",
   "id": "20b0eba8-6b03-4cc2-81f3-49fa00c6608e",
   "metadata": {
    "tags": []
   },
   "source": [
    "Note that perturbations 0 to 9 are single perturbations, perturbations 10 to 14 are combinations of adjacent perturbations: pert_0+pert_1, pert_1+pert_2, ... and perturbations 15 to 19 are combinations of pert_0+pert_9, pert_1+pert_8, pert_2+pert_7, pert_3+pert_6, pert_4+pert_5."
   ]
  },
  {
   "cell_type": "markdown",
   "id": "3f829688-7156-4e3b-808d-e00f82fd6352",
   "metadata": {},
   "source": [
    "Extend it to 20 000 observations: dictionary of perturbations.\n"
   ]
  },
  {
   "cell_type": "code",
   "execution_count": null,
   "id": "48308070-6733-45e7-bc7b-4eba4fee174f",
   "metadata": {
    "tags": []
   },
   "outputs": [],
   "source": [
    "np.random.seed(999)\n",
    "pert_keys = np.random.choice([i for i in range(20)],20000, p = [0.2, 0.05, 0.05, 0.12, 0.08, 0.025, 0.0125, 0.0125, 0.075, 0.025, 0.03, 0.04, 0.02, 0.01, 0.005, 0.005, 0.04, 0.1, 0.03, 0.07])\n",
    "plt.figure(figsize=(7,3))\n",
    "plt.hist(pert_keys,bins=20)\n",
    "plt.title(\"Frequency of perturbation types\")\n",
    "plt.xlabel(\"Perturbation ID 0 to 19\")\n",
    "plt.ylabel('Frequency')"
   ]
  },
  {
   "cell_type": "code",
   "execution_count": null,
   "id": "bc31932c-5f8c-403a-b515-edd3934f7663",
   "metadata": {
    "tags": []
   },
   "outputs": [],
   "source": [
    "D_pert = np.array([M_pert[pert_keys[i],:] for i in range(20000)]).reshape(20000,1000)"
   ]
  },
  {
   "cell_type": "code",
   "execution_count": null,
   "id": "3f2a0c5e-9b17-4c2e-9e2c-3f0d329bd9ac",
   "metadata": {
    "tags": []
   },
   "outputs": [],
   "source": [
    "sns.heatmap(D_pert)"
   ]
  },
  {
   "cell_type": "code",
   "execution_count": null,
   "id": "6d5dbd14-10bc-4bb1-9cb3-60a7ef783ed9",
   "metadata": {
    "tags": []
   },
   "outputs": [],
   "source": [
    "from tqdm import tqdm"
   ]
  },
  {
   "cell_type": "code",
   "execution_count": null,
   "id": "d32654bc-46de-4e0b-9262-65902ccd7a32",
   "metadata": {
    "tags": []
   },
   "outputs": [],
   "source": [
    "X_d = np.empty((20000,1000))\n",
    "for i in tqdm(range(20000)):\n",
    "    d = D_pert[i,:]\n",
    "    X_d[i,:] = poisson_lognormal(np.multiply(B.T,d).T@Z)"
   ]
  },
  {
   "cell_type": "code",
   "execution_count": null,
   "id": "4bb83235-535c-4d65-b2db-48dfc0eec54c",
   "metadata": {
    "tags": []
   },
   "outputs": [],
   "source": [
    "plt.figure(figsize=(3,2))\n",
    "sns.heatmap(X_d[:20,:20])"
   ]
  },
  {
   "cell_type": "markdown",
   "id": "89db3ff8-1235-4857-914b-0ea7b098f382",
   "metadata": {
    "tags": []
   },
   "source": [
    "#### Transform to AnnData and pass through CPA"
   ]
  },
  {
   "cell_type": "code",
   "execution_count": null,
   "id": "5db62f8e-7e5e-4318-905e-f83850738046",
   "metadata": {
    "tags": []
   },
   "outputs": [],
   "source": [
    "import anndata as ad"
   ]
  },
  {
   "cell_type": "code",
   "execution_count": null,
   "id": "5de7bbdc-a277-435b-a7a5-aac3c98e7d34",
   "metadata": {
    "tags": []
   },
   "outputs": [],
   "source": [
    "X_d = sp.sparse.csr_matrix(X_d)"
   ]
  },
  {
   "cell_type": "code",
   "execution_count": null,
   "id": "1bc46d2c-4a2f-4ae6-99dd-370dfa453514",
   "metadata": {
    "tags": []
   },
   "outputs": [],
   "source": [
    "adata = ad.AnnData(X_d)"
   ]
  },
  {
   "cell_type": "code",
   "execution_count": null,
   "id": "4664c7f7-7f7c-4060-9300-7f66a8857bb9",
   "metadata": {
    "tags": []
   },
   "outputs": [],
   "source": [
    "adata.obs_names = [f\"Cell_{i:d}\" for i in range(adata.n_obs)]\n",
    "adata.var_names = [f\"Gene_{i:d}\" for i in range(adata.n_vars)]\n",
    "print(adata.obs_names[:10])"
   ]
  },
  {
   "cell_type": "code",
   "execution_count": null,
   "id": "115cb340-8ace-4883-8765-e7e2ab63a934",
   "metadata": {
    "tags": []
   },
   "outputs": [],
   "source": [
    "# perturbation keys dictionary\n",
    "pert_keys10_19 = {'pert_10':'pert_0+pert_1', 'pert_11':'pert_1+pert_2', 'pert_12': 'pert_2+pert_3', 'pert_13':'pert_3+pert_4', 'pert_14':'pert_4+pert_5',\n",
    "'pert_15':'pert_0+pert_9', 'pert_16':'pert_1+pert_8', 'pert_17':'pert_2+pert_7', 'pert_18':'pert_3+pert_6','pert_19': 'pert_4+pert_5'}"
   ]
  },
  {
   "cell_type": "code",
   "execution_count": null,
   "id": "8152bbbf-0b2d-4701-a11c-a8fe1772d687",
   "metadata": {
    "tags": []
   },
   "outputs": [],
   "source": [
    "adata.obs[\"perturbation_ID\"] = pd.Categorical(['pert_' + str(pert_keys[i]) for i in range(len(pert_keys))])\n",
    "adata.obs.head()"
   ]
  },
  {
   "cell_type": "code",
   "execution_count": null,
   "id": "a19bcbc3-99aa-40f4-b994-87e3df9d1f3f",
   "metadata": {
    "tags": []
   },
   "outputs": [],
   "source": [
    "adata.obs['dosage_id'] = adata.obs['perturbation_ID'].astype(str).apply(lambda x: '+'.join(['1.0' for _ in x.split('+')])).values\n",
    "adata.obs.head()"
   ]
  },
  {
   "cell_type": "markdown",
   "id": "3e05e959-2efc-4a18-a0bd-26d5db720feb",
   "metadata": {
    "tags": []
   },
   "source": [
    "#### Try on CPA"
   ]
  },
  {
   "cell_type": "code",
   "execution_count": null,
   "id": "5dfa936e-3bf5-415d-92a0-d7695f5c8369",
   "metadata": {
    "tags": []
   },
   "outputs": [],
   "source": [
    "import cpa"
   ]
  },
  {
   "cell_type": "code",
   "execution_count": null,
   "id": "22ff2ecd-f6de-4984-8c0e-e5aa7a651652",
   "metadata": {
    "tags": []
   },
   "outputs": [],
   "source": [
    "cpa.CPA.setup_anndata(adata, \n",
    "                      perturbation_key='perturbation_ID',\n",
    "                      control_group='pert_0',\n",
    "                      dosage_key='dosage_id',\n",
    "                     # categorical_covariate_keys=['cell_type'],\n",
    "                      is_count_data=True\n",
    "                     # deg_uns_key='rank_genes_groups_cov',\n",
    "                     # deg_uns_cat_key='cov_cond',\n",
    "                     # max_comb_len=2,\n",
    "                     )"
   ]
  },
  {
   "cell_type": "code",
   "execution_count": null,
   "id": "d956518d-ecd4-469f-90a3-469291e061ab",
   "metadata": {
    "tags": []
   },
   "outputs": [],
   "source": [
    "model_params = {\n",
    "    \"n_latent\": 32,\n",
    "    \"recon_loss\": \"nb\",\n",
    "    \"doser_type\": \"linear\",\n",
    "    \"n_hidden_encoder\": 256,\n",
    "    \"n_layers_encoder\": 4,\n",
    "    \"n_hidden_decoder\": 256,\n",
    "    \"n_layers_decoder\": 2,\n",
    "    \"use_batch_norm_encoder\": True,\n",
    "    \"use_layer_norm_encoder\": False,\n",
    "    \"use_batch_norm_decoder\": False,\n",
    "    \"use_layer_norm_decoder\": False,\n",
    "    \"dropout_rate_encoder\": 0.2,\n",
    "    \"dropout_rate_decoder\": 0.0,\n",
    "    \"variational\": False,\n",
    "    \"seed\": 8206,\n",
    "}\n",
    "\n",
    "trainer_params = {\n",
    "    \"n_epochs_kl_warmup\": None,\n",
    "    \"n_epochs_adv_warmup\": 50,\n",
    "    \"n_epochs_mixup_warmup\": 10,\n",
    "    \"n_epochs_pretrain_ae\": 10,\n",
    "    \"mixup_alpha\": 0.1,\n",
    "    \"lr\": 0.0001,\n",
    "    \"wd\": 3.2170178270865573e-06,\n",
    "    \"adv_steps\": 3,\n",
    "    \"reg_adv\": 10.0,\n",
    "    \"pen_adv\": 20.0,\n",
    "    \"adv_lr\": 0.0001,\n",
    "    \"adv_wd\": 7.051355554517135e-06,\n",
    "    \"n_layers_adv\": 2,\n",
    "    \"n_hidden_adv\": 128,\n",
    "    \"use_batch_norm_adv\": True,\n",
    "    \"use_layer_norm_adv\": False,\n",
    "    \"dropout_rate_adv\": 0.3,\n",
    "    \"step_size_lr\": 25,\n",
    "    \"do_clip_grad\": False,\n",
    "    \"adv_loss\": \"cce\",\n",
    "    \"gradient_clip_value\": 5.0,\n",
    "}"
   ]
  },
  {
   "cell_type": "code",
   "execution_count": null,
   "id": "f72f5197-6bec-49f1-bf13-5ae959c74867",
   "metadata": {
    "tags": []
   },
   "outputs": [],
   "source": [
    "adata.obs['split'] = np.random.choice(['train', 'valid'], size=adata.n_obs, p=[0.85, 0.15])\n",
    "adata.obs.loc[adata.obs['perturbation_ID'].isin(['pert_17', 'pert_13']), 'split'] = 'ood'"
   ]
  },
  {
   "cell_type": "code",
   "execution_count": null,
   "id": "33d1a94e-a96c-4916-99aa-5e27473b1114",
   "metadata": {
    "tags": []
   },
   "outputs": [],
   "source": [
    "adata.obs['split'].value_counts()"
   ]
  },
  {
   "cell_type": "code",
   "execution_count": null,
   "id": "de76f218-cb2c-488c-b71f-cf163d2d6dcb",
   "metadata": {
    "tags": []
   },
   "outputs": [],
   "source": [
    "model = cpa.CPA(adata=adata, \n",
    "                split_key='split',\n",
    "                train_split='train',\n",
    "                valid_split='valid',\n",
    "                test_split='ood',\n",
    "                **model_params,\n",
    "               )"
   ]
  },
  {
   "cell_type": "code",
   "execution_count": null,
   "id": "984fdf8c-b944-4e20-8b86-27137112bc23",
   "metadata": {
    "tags": []
   },
   "outputs": [],
   "source": [
    "!conda env config vars set PYTORCH_ENABLE_MPS_FALLBACK=1"
   ]
  },
  {
   "cell_type": "code",
   "execution_count": null,
   "id": "6bbc663d-be26-4c7f-9bfd-0b85094f0a8b",
   "metadata": {
    "tags": []
   },
   "outputs": [],
   "source": []
  },
  {
   "cell_type": "code",
   "execution_count": null,
   "id": "2b3088d5-87ef-49e9-8f1c-e450397ccce6",
   "metadata": {
    "tags": []
   },
   "outputs": [],
   "source": [
    "model.train(max_epochs=2000,\n",
    "            use_gpu=True,\n",
    "            batch_size=2048,\n",
    "            plan_kwargs=trainer_params,\n",
    "            early_stopping_patience=5,\n",
    "            check_val_every_n_epoch=5,\n",
    "            save_path='',\n",
    "           )"
   ]
  },
  {
   "cell_type": "code",
   "execution_count": null,
   "id": "1f982579-73cf-444e-a710-e6e0be1e0f0a",
   "metadata": {
    "tags": []
   },
   "outputs": [],
   "source": [
    "import os\n",
    "os.getcwd()"
   ]
  },
  {
   "cell_type": "code",
   "execution_count": null,
   "id": "619d538c-6bbd-4241-9e87-454ba5dd5d68",
   "metadata": {},
   "outputs": [],
   "source": [
    "cpa.pl.plot_history(model)"
   ]
  },
  {
   "cell_type": "code",
   "execution_count": null,
   "id": "e91af776-3394-40af-b812-9c6817c272c8",
   "metadata": {},
   "outputs": [],
   "source": [
    "latent_outputs = model.get_latent_representation(adata, batch_size=2048)"
   ]
  },
  {
   "cell_type": "code",
   "execution_count": null,
   "id": "5d1d7485-88d2-4183-b3f8-cbc410eb6a51",
   "metadata": {},
   "outputs": [],
   "source": [
    "latent_outputs.keys()"
   ]
  },
  {
   "cell_type": "code",
   "execution_count": null,
   "id": "e008d445-5b0a-4626-8a0b-fd095fd8d262",
   "metadata": {},
   "outputs": [],
   "source": [
    "sc.pp.neighbors(latent_outputs['latent_basal'])\n",
    "sc.tl.umap(latent_outputs['latent_basal'])"
   ]
  },
  {
   "cell_type": "code",
   "execution_count": null,
   "id": "5e229fe2-9e3f-4450-a18b-c6141efc28e7",
   "metadata": {},
   "outputs": [],
   "source": [
    "sc.pl.umap(latent_outputs['latent_basal'], \n",
    "           color='cond_harm', \n",
    "           groups=groups,\n",
    "           palette=sc.pl.palettes.godsnot_102,\n",
    "           frameon=False)"
   ]
  },
  {
   "cell_type": "code",
   "execution_count": null,
   "id": "18fdbd7a-5409-4f92-9659-a02dd0a535e5",
   "metadata": {},
   "outputs": [],
   "source": [
    "sc.pl.umap(latent_outputs['latent_basal'], \n",
    "           color='pathway', \n",
    "           palette=sc.pl.palettes.godsnot_102,\n",
    "           frameon=False)"
   ]
  },
  {
   "cell_type": "markdown",
   "id": "daf32bc5-a8ca-46e1-9ebf-11c97bd20668",
   "metadata": {},
   "source": [
    "### Poisson-Gamma mixture $Z_i \\sim \\Gamma(a_i,b_i)$"
   ]
  },
  {
   "cell_type": "code",
   "execution_count": null,
   "id": "b0fedf51-17d5-4897-a70d-dbe7aafeeffb",
   "metadata": {},
   "outputs": [],
   "source": []
  }
 ],
 "metadata": {
  "kernelspec": {
   "display_name": "Python 3 (ipykernel)",
   "language": "python",
   "name": "python3"
  },
  "language_info": {
   "codemirror_mode": {
    "name": "ipython",
    "version": 3
   },
   "file_extension": ".py",
   "mimetype": "text/x-python",
   "name": "python",
   "nbconvert_exporter": "python",
   "pygments_lexer": "ipython3",
   "version": "3.9.18"
  }
 },
 "nbformat": 4,
 "nbformat_minor": 5
}
